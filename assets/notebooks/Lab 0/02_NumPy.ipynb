{
 "cells": [
  {
   "cell_type": "markdown",
   "metadata": {
    "colab_type": "text",
    "id": "bOChJSNXtC9g"
   },
   "source": [
    "# NumPy"
   ]
  },
  {
   "cell_type": "markdown",
   "metadata": {
    "colab_type": "text",
    "id": "OLIxEDq6VhvZ"
   },
   "source": [
    "<img src=\"https://raw.githubusercontent.com/GokuMohandas/practicalAI/master/images/logo.png\" width=150>\n",
    "\n",
    "In this lesson we will learn the basics of numerical analysis using the NumPy package.\n",
    "\n",
    "<img src=\"https://raw.githubusercontent.com/GokuMohandas/practicalAI/master/images/numpy.png\" width=300>\n",
    "\n",
    "\n"
   ]
  },
  {
   "cell_type": "markdown",
   "metadata": {
    "colab_type": "text",
    "id": "VoMq0eFRvugb"
   },
   "source": [
    "# NumPy basics"
   ]
  },
  {
   "cell_type": "code",
   "execution_count": 1,
   "metadata": {
    "colab": {},
    "colab_type": "code",
    "id": "0-dXQiLlTIgz"
   },
   "outputs": [],
   "source": [
    "import numpy as np"
   ]
  },
  {
   "cell_type": "code",
   "execution_count": 2,
   "metadata": {
    "colab": {},
    "colab_type": "code",
    "id": "bhaOPJV7WA0m"
   },
   "outputs": [],
   "source": [
    "# Set seed for reproducibility\n",
    "np.random.seed(seed=1234)"
   ]
  },
  {
   "cell_type": "code",
   "execution_count": 9,
   "metadata": {
    "colab": {
     "base_uri": "https://localhost:8080/",
     "height": 102
    },
    "colab_type": "code",
    "id": "23tSlin9aWZ8",
    "outputId": "4df1dbc0-77a1-4776-87d2-326b0bb0f79c"
   },
   "outputs": [
    {
     "name": "stdout",
     "output_type": "stream",
     "text": [
      "x:  6\n",
      "x ndim:  0\n",
      "x shape: ()\n",
      "x size:  1\n",
      "x dtype:  int64\n"
     ]
    }
   ],
   "source": [
    "# Scalars\n",
    "x = np.array(6) # scalar\n",
    "print (\"x: \", x)\n",
    "# Number of dimensions\n",
    "print (\"x ndim: \", x.ndim)\n",
    "# Dimensions\n",
    "print (\"x shape:\", x.shape)\n",
    "# Size of elements\n",
    "print (\"x size: \", x.size)\n",
    "# Data type\n",
    "print (\"x dtype: \", x.dtype)"
   ]
  },
  {
   "cell_type": "code",
   "execution_count": 7,
   "metadata": {
    "colab": {
     "base_uri": "https://localhost:8080/",
     "height": 102
    },
    "colab_type": "code",
    "id": "ugIZprdIabFF",
    "outputId": "485b9e5e-176a-4ac3-b5ac-71a951470bf1"
   },
   "outputs": [
    {
     "name": "stdout",
     "output_type": "stream",
     "text": [
      "x:  [1.3 2.2 1.7]\n",
      "x ndim:  1\n",
      "x shape: (3,)\n",
      "x size:  3\n",
      "x dtype:  float64\n"
     ]
    }
   ],
   "source": [
    "# 1-D Array\n",
    "x = np.array([1.3 , 2.2 , 1.7])\n",
    "print (\"x: \", x)\n",
    "print (\"x ndim: \", x.ndim)\n",
    "print (\"x shape:\", x.shape)\n",
    "print (\"x size: \", x.size)\n",
    "print (\"x dtype: \", x.dtype) # notice the float datatype"
   ]
  },
  {
   "cell_type": "code",
   "execution_count": 3,
   "metadata": {
    "colab": {
     "base_uri": "https://localhost:8080/",
     "height": 153
    },
    "colab_type": "code",
    "id": "SQI-T_4MbE9J",
    "outputId": "4eede496-01c0-4f83-d0d9-ffe073de8f9f"
   },
   "outputs": [
    {
     "name": "stdout",
     "output_type": "stream",
     "text": [
      "x:\n",
      " [[[1 2 3]\n",
      "  [4 5 6]\n",
      "  [7 8 9]]]\n",
      "x ndim:  3\n",
      "x shape: (1, 3, 3)\n",
      "x size:  9\n",
      "x dtype:  int64\n"
     ]
    }
   ],
   "source": [
    "# 3-D array (matrix)\n",
    "x = np.array([[[1,2,3], [4,5,6], [7,8,9]]])\n",
    "print (\"x:\\n\", x)\n",
    "print (\"x ndim: \", x.ndim)\n",
    "print (\"x shape:\", x.shape)\n",
    "print (\"x size: \", x.size)\n",
    "print (\"x dtype: \", x.dtype)"
   ]
  },
  {
   "cell_type": "code",
   "execution_count": 6,
   "metadata": {
    "colab": {
     "base_uri": "https://localhost:8080/",
     "height": 221
    },
    "colab_type": "code",
    "id": "z2Qf8EKZln9j",
    "outputId": "45b92bcd-42a4-457b-ae34-494a1f214ffe"
   },
   "outputs": [
    {
     "name": "stdout",
     "output_type": "stream",
     "text": [
      "np.zeros((2,2)):\n",
      " [[0. 0.]\n",
      " [0. 0.]]\n",
      "np.ones((2,2)):\n",
      " [[1. 1.]\n",
      " [1. 1.]]\n",
      "np.eye((2)):\n",
      " [[1. 0.]\n",
      " [0. 1.]]\n",
      "np.random.random((2,2)):\n",
      " [[0.77997581 0.27259261]\n",
      " [0.27646426 0.80187218]]\n"
     ]
    }
   ],
   "source": [
    "# Functions\n",
    "print (\"np.zeros((2,2)):\\n\", np.zeros((2,2)))\n",
    "print (\"np.ones((2,2)):\\n\", np.ones((2,2)))\n",
    "print (\"np.eye((2)):\\n\", np.eye((2)))\n",
    "print (\"np.random.random((2,2)):\\n\", np.random.random((2,2)))"
   ]
  },
  {
   "cell_type": "markdown",
   "metadata": {
    "colab_type": "text",
    "id": "qVD-MCiCdcV9"
   },
   "source": [
    "# Indexing"
   ]
  },
  {
   "cell_type": "code",
   "execution_count": 7,
   "metadata": {
    "colab": {
     "base_uri": "https://localhost:8080/",
     "height": 51
    },
    "colab_type": "code",
    "id": "vyt36kFOcVDX",
    "outputId": "d65f99dd-97ba-4df5-afa1-fc4305c0dc69"
   },
   "outputs": [
    {
     "name": "stdout",
     "output_type": "stream",
     "text": [
      "x[0]:  1\n",
      "x:  [0 2 3]\n"
     ]
    }
   ],
   "source": [
    "# Indexing\n",
    "x = np.array([1, 2, 3])\n",
    "print (\"x[0]: \", x[0])\n",
    "x[0] = 0\n",
    "print (\"x: \", x)"
   ]
  },
  {
   "cell_type": "code",
   "execution_count": 8,
   "metadata": {
    "colab": {
     "base_uri": "https://localhost:8080/",
     "height": 170
    },
    "colab_type": "code",
    "id": "qxHww0didni6",
    "outputId": "0cccf1f5-3372-4f75-baf9-095b546e9ced"
   },
   "outputs": [
    {
     "name": "stdout",
     "output_type": "stream",
     "text": [
      "[[ 1  2  3  4]\n",
      " [ 5  6  7  8]\n",
      " [ 9 10 11 12]]\n",
      "2\n",
      "x column 1:  [ 2  6 10]\n",
      "x row 0:  (4,)\n",
      "x rows 0,1,2 & cols 1,2: \n",
      " [[ 2  3]\n",
      " [ 6  7]\n",
      " [10 11]]\n"
     ]
    }
   ],
   "source": [
    "# Slicing\n",
    "x = np.array([[1,2,3,4], [5,6,7,8], [9,10,11,12]])\n",
    "print (x)\n",
    "print(x.ndim)\n",
    "print (\"x column 1: \", x[:, 1]) \n",
    "print (\"x row 0: \", x[0, :].shape) \n",
    "print (\"x rows 0,1,2 & cols 1,2: \\n\", x[:3, 1:3]) "
   ]
  },
  {
   "cell_type": "code",
   "execution_count": 10,
   "metadata": {},
   "outputs": [
    {
     "data": {
      "text/plain": [
       "array([0, 1, 2, 3, 4])"
      ]
     },
     "execution_count": 10,
     "metadata": {},
     "output_type": "execute_result"
    }
   ],
   "source": [
    "np.arange(5)"
   ]
  },
  {
   "cell_type": "code",
   "execution_count": 9,
   "metadata": {
    "colab": {
     "base_uri": "https://localhost:8080/",
     "height": 119
    },
    "colab_type": "code",
    "id": "A52pzB9idyDE",
    "outputId": "c9cd9a42-8cbb-4459-b878-8969aaec1e95"
   },
   "outputs": [
    {
     "name": "stdout",
     "output_type": "stream",
     "text": [
      "[[ 1  2  3  4]\n",
      " [ 5  6  7  8]\n",
      " [ 9 10 11 12]]\n",
      "rows_to_get:  [0 1 2]\n",
      "cols_to_get:  [0 2 1]\n",
      "indexed values:  [ 1  7 10]\n"
     ]
    }
   ],
   "source": [
    "# Integer array indexing\n",
    "print (x)\n",
    "rows_to_get = np.arange(len(x))\n",
    "print (\"rows_to_get: \", rows_to_get)\n",
    "cols_to_get = np.array([0, 2, 1])\n",
    "print (\"cols_to_get: \", cols_to_get)\n",
    "print (\"indexed values: \", x[rows_to_get, cols_to_get])"
   ]
  },
  {
   "cell_type": "code",
   "execution_count": 15,
   "metadata": {
    "colab": {
     "base_uri": "https://localhost:8080/",
     "height": 187
    },
    "colab_type": "code",
    "id": "_R7O5WsVfDij",
    "outputId": "ab346ca7-5959-4bd2-cf02-9d2f9b253e72"
   },
   "outputs": [
    {
     "name": "stdout",
     "output_type": "stream",
     "text": [
      "x:\n",
      " [[1 2]\n",
      " [3 4]\n",
      " [5 6]]\n",
      "x > 2:\n",
      " [[False False]\n",
      " [ True  True]\n",
      " [ True  True]]\n",
      "x[x > 2]:\n",
      " [3 4 5 6]\n"
     ]
    }
   ],
   "source": [
    "# Boolean array indexing\n",
    "x = np.array([[1,2], [3, 4], [5, 6]])\n",
    "print (\"x:\\n\", x)\n",
    "print (\"x > 2:\\n\", x > 2)\n",
    "print (\"x[x > 2]:\\n\", x[x > 2])"
   ]
  },
  {
   "cell_type": "markdown",
   "metadata": {
    "colab_type": "text",
    "id": "77RCjrQ8gvYW"
   },
   "source": [
    "# Array math"
   ]
  },
  {
   "cell_type": "code",
   "execution_count": 11,
   "metadata": {
    "colab": {
     "base_uri": "https://localhost:8080/",
     "height": 170
    },
    "colab_type": "code",
    "id": "1UJVcNCLfFrV",
    "outputId": "4284fa79-10e7-428a-f30e-7a59a16cf510"
   },
   "outputs": [
    {
     "name": "stdout",
     "output_type": "stream",
     "text": [
      "x + y:\n",
      " [[2. 4.]\n",
      " [6. 8.]]\n",
      "x - y:\n",
      " [[0. 0.]\n",
      " [0. 0.]]\n",
      "x * y:\n",
      " [[ 1.  4.]\n",
      " [ 9. 16.]]\n"
     ]
    }
   ],
   "source": [
    "# Basic math\n",
    "x = np.array([[1,2], [3,4]], dtype=np.float64)\n",
    "y = np.array([[1,2], [3,4]], dtype=np.float64)\n",
    "print (\"x + y:\\n\", np.add(x, y)) # or x + y\n",
    "print (\"x - y:\\n\", np.subtract(x, y)) # or x - y\n",
    "print (\"x * y:\\n\", np.multiply(x, y)) # or x * y"
   ]
  },
  {
   "cell_type": "markdown",
   "metadata": {
    "colab_type": "text",
    "id": "1BV0nSIliMC6"
   },
   "source": [
    "<img src=\"https://raw.githubusercontent.com/GokuMohandas/practicalAI/master/images/matrix.png\" width=400>\n"
   ]
  },
  {
   "cell_type": "code",
   "execution_count": 17,
   "metadata": {
    "colab": {
     "base_uri": "https://localhost:8080/",
     "height": 51
    },
    "colab_type": "code",
    "id": "XyZVF6gXhTWd",
    "outputId": "8cbc328a-b5f3-416e-cf6f-a140aa208398"
   },
   "outputs": [
    {
     "name": "stdout",
     "output_type": "stream",
     "text": [
      "[[ 58.  64.]\n",
      " [139. 154.]]\n"
     ]
    }
   ],
   "source": [
    "# Dot product\n",
    "a = np.array([[1,2,3], [4,5,6]], dtype=np.float64) # we can specify dtype\n",
    "b = np.array([[7,8], [9,10], [11, 12]], dtype=np.float64)\n",
    "print (a.dot(b))"
   ]
  },
  {
   "cell_type": "code",
   "execution_count": 12,
   "metadata": {
    "colab": {
     "base_uri": "https://localhost:8080/",
     "height": 102
    },
    "colab_type": "code",
    "id": "7pB-H-7phsku",
    "outputId": "96a21872-164a-4b47-cd35-bf031a7421d3"
   },
   "outputs": [
    {
     "name": "stdout",
     "output_type": "stream",
     "text": [
      "[[1 2]\n",
      " [3 4]]\n",
      "sum all:  10\n",
      "sum by col:  [4 6]\n",
      "sum by row:  [3 7]\n"
     ]
    }
   ],
   "source": [
    "# Sum across a dimension\n",
    "x = np.array([[1,2],[3,4]])\n",
    "print (x)\n",
    "print (\"sum all: \", np.sum(x)) # adds all elements\n",
    "print (\"sum by col: \", np.sum(x, axis=0)) # add numbers in each column\n",
    "print (\"sum by row: \", np.sum(x, axis=1)) # add numbers in each row"
   ]
  },
  {
   "cell_type": "code",
   "execution_count": 13,
   "metadata": {
    "colab": {
     "base_uri": "https://localhost:8080/",
     "height": 119
    },
    "colab_type": "code",
    "id": "pLDG49LrijgA",
    "outputId": "9fa3a3e1-6a33-4052-baea-3dd91649f193"
   },
   "outputs": [
    {
     "name": "stdout",
     "output_type": "stream",
     "text": [
      "x:\n",
      " [[1 2]\n",
      " [3 4]]\n",
      "x.T:\n",
      " [[1 3]\n",
      " [2 4]]\n"
     ]
    }
   ],
   "source": [
    "# Transposing\n",
    "print (\"x:\\n\", x)\n",
    "print (\"x.T:\\n\", x.T)"
   ]
  },
  {
   "cell_type": "markdown",
   "metadata": {
    "colab_type": "text",
    "id": "KdPKVKtwkWnw"
   },
   "source": [
    "# Advanced"
   ]
  },
  {
   "cell_type": "code",
   "execution_count": 14,
   "metadata": {
    "colab": {
     "base_uri": "https://localhost:8080/",
     "height": 119
    },
    "colab_type": "code",
    "id": "U_j2fCcjkEyo",
    "outputId": "7df2d80f-7e31-4c01-e8e7-81c6986f6bd7"
   },
   "outputs": [
    {
     "name": "stdout",
     "output_type": "stream",
     "text": [
      "addent: \n",
      " [[5 6]\n",
      " [5 6]]\n",
      "z:\n",
      " [[ 6  8]\n",
      " [ 8 10]]\n"
     ]
    }
   ],
   "source": [
    "# Tile\n",
    "x = np.array([[1,2], [3,4]])\n",
    "y = np.array([5, 6])\n",
    "addent = np.tile(y, (len(x), 1))\n",
    "print (\"addent: \\n\", addent)\n",
    "z = x + addent\n",
    "print (\"z:\\n\", z)"
   ]
  },
  {
   "cell_type": "code",
   "execution_count": 15,
   "metadata": {
    "colab": {
     "base_uri": "https://localhost:8080/",
     "height": 68
    },
    "colab_type": "code",
    "id": "1NsoFVo0mfQ4",
    "outputId": "3b2a830e-abcf-4e5d-e824-2b9ce142f166"
   },
   "outputs": [
    {
     "name": "stdout",
     "output_type": "stream",
     "text": [
      "z:\n",
      " [[ 6  8]\n",
      " [ 8 10]]\n"
     ]
    }
   ],
   "source": [
    "# Broadcasting\n",
    "x = np.array([[1,2], [3,4]])\n",
    "y = np.array([5, 6])\n",
    "z = x + y\n",
    "print (\"z:\\n\", z)"
   ]
  },
  {
   "cell_type": "code",
   "execution_count": 16,
   "metadata": {
    "colab": {
     "base_uri": "https://localhost:8080/",
     "height": 153
    },
    "colab_type": "code",
    "id": "RdEHrnMTnO6k",
    "outputId": "881c6cf7-bfc7-4c41-ad70-68cd01b20656"
   },
   "outputs": [
    {
     "name": "stdout",
     "output_type": "stream",
     "text": [
      "[[1 2]\n",
      " [3 4]\n",
      " [5 6]]\n",
      "x.shape:  (3, 2)\n",
      "y.shape:  (2, 3)\n",
      "y: \n",
      " [[1 2 3]\n",
      " [4 5 6]]\n"
     ]
    }
   ],
   "source": [
    "# Reshaping\n",
    "x = np.array([[1,2], [3,4], [5,6]])\n",
    "print (x)\n",
    "print (\"x.shape: \", x.shape)\n",
    "y = np.reshape(x, (2, 3))\n",
    "print (\"y.shape: \", y.shape)\n",
    "print (\"y: \\n\", y)"
   ]
  },
  {
   "cell_type": "code",
   "execution_count": 29,
   "metadata": {
    "colab": {
     "base_uri": "https://localhost:8080/",
     "height": 102
    },
    "colab_type": "code",
    "id": "tE1BmoJuns70",
    "outputId": "719b9e01-4428-4013-b413-d755d46a2e58"
   },
   "outputs": [
    {
     "name": "stdout",
     "output_type": "stream",
     "text": [
      "x.shape:  (2, 1, 3)\n",
      "y.shape:  (2, 3)\n",
      "y: \n",
      " [[1 2 1]\n",
      " [2 2 3]]\n"
     ]
    }
   ],
   "source": [
    "# Removing dimensions\n",
    "x = np.array([[[1,2,1]],[[2,2,3]]])\n",
    "print (\"x.shape: \", x.shape)\n",
    "y = np.squeeze(x, 1) # squeeze dim 1\n",
    "print (\"y.shape: \", y.shape) \n",
    "print (\"y: \\n\", y)"
   ]
  },
  {
   "cell_type": "code",
   "execution_count": 27,
   "metadata": {
    "colab": {
     "base_uri": "https://localhost:8080/",
     "height": 119
    },
    "colab_type": "code",
    "id": "LNYJRMF4qvXN",
    "outputId": "be32eb32-2222-4178-fb52-4fc86d5f8df1"
   },
   "outputs": [
    {
     "name": "stdout",
     "output_type": "stream",
     "text": [
      "x.shape:  (2, 3)\n",
      "y.shape:  (2, 1, 3)\n",
      "y: \n",
      " [[[1 2 1]]\n",
      "\n",
      " [[2 2 3]]]\n"
     ]
    }
   ],
   "source": [
    "# Adding dimensions\n",
    "x = np.array([[1,2,1],[2,2,3]])\n",
    "print (\"x.shape: \", x.shape)\n",
    "y = np.expand_dims(x, 1) # expand dim 1\n",
    "print (\"y.shape: \", y.shape) \n",
    "print (\"y: \\n\", y)"
   ]
  },
  {
   "cell_type": "markdown",
   "metadata": {
    "colab_type": "text",
    "id": "XthM4y7SotAH"
   },
   "source": [
    "# Additional resources"
   ]
  },
  {
   "cell_type": "markdown",
   "metadata": {
    "colab_type": "text",
    "id": "3KmESFstrbFS"
   },
   "source": [
    "You don't have to memorize anything here and we will be taking a closer look at NumPy in the later lessons. If you are curious about more checkout the [NumPy reference manual](https://docs.scipy.org/doc/numpy-1.15.1/reference/)."
   ]
  }
 ],
 "metadata": {
  "colab": {
   "collapsed_sections": [],
   "name": "02_NumPy",
   "provenance": [],
   "toc_visible": true,
   "version": "0.3.2"
  },
  "kernelspec": {
   "display_name": "Python 3",
   "language": "python",
   "name": "python3"
  },
  "language_info": {
   "codemirror_mode": {
    "name": "ipython",
    "version": 3
   },
   "file_extension": ".py",
   "mimetype": "text/x-python",
   "name": "python",
   "nbconvert_exporter": "python",
   "pygments_lexer": "ipython3",
   "version": "3.7.0"
  }
 },
 "nbformat": 4,
 "nbformat_minor": 1
}
